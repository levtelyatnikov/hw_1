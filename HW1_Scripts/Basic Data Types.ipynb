{
 "cells": [
  {
   "cell_type": "markdown",
   "metadata": {},
   "source": [
    "**Basic Data Types**"
   ]
  },
  {
   "cell_type": "markdown",
   "metadata": {},
   "source": [
    "**1** List Comprehensions\n",
    "\n"
   ]
  },
  {
   "cell_type": "code",
   "execution_count": null,
   "metadata": {},
   "outputs": [],
   "source": [
    "if __name__ == '__main__':\n",
    "    x = int(input())\n",
    "    y = int(input())\n",
    "    z = int(input())\n",
    "    n = int(input())\n",
    "print ([[i,j,k] for i in range(0,x+1) for j in range(0,y+1) for k in range(0,z+1) if i + j + k != n ])\n",
    "\n"
   ]
  },
  {
   "cell_type": "markdown",
   "metadata": {},
   "source": [
    "**2** Find the Runner-Up Score!"
   ]
  },
  {
   "cell_type": "code",
   "execution_count": null,
   "metadata": {},
   "outputs": [],
   "source": [
    "if __name__ == '__main__':\n",
    "    n = int(input())\n",
    "    arr = list(map(int, input().split()))\n",
    "    [arr.remove(max(arr))for i in range(arr.count(max(arr)))]\n",
    "    print(max(arr))"
   ]
  },
  {
   "cell_type": "markdown",
   "metadata": {},
   "source": [
    "**3** Finding the percentage\n",
    "\n"
   ]
  },
  {
   "cell_type": "code",
   "execution_count": null,
   "metadata": {},
   "outputs": [],
   "source": [
    "if __name__ == '__main__':\n",
    "    n = int(input())\n",
    "    student_marks = {}\n",
    "    for _ in range(n):\n",
    "        line = input().split()\n",
    "        name, scores = line[0], line[1:]\n",
    "        scores = list(map(float, scores))\n",
    "        student_marks[name] = scores\n",
    "    name = input()\n",
    "    print('{0:.2f}'.format(sum(student_marks[name])/len(student_marks[name])))\n",
    "\n",
    "    "
   ]
  },
  {
   "cell_type": "markdown",
   "metadata": {},
   "source": [
    "**4** Tuples\n"
   ]
  },
  {
   "cell_type": "code",
   "execution_count": null,
   "metadata": {},
   "outputs": [],
   "source": [
    "if __name__ == '__main__':\n",
    "    n = int(input())\n",
    "    integer_list = tuple(map(int, input().split()))\n",
    "    print(hash(integer_list))"
   ]
  },
  {
   "cell_type": "markdown",
   "metadata": {},
   "source": [
    "**5** Nested Lists"
   ]
  },
  {
   "cell_type": "code",
   "execution_count": null,
   "metadata": {},
   "outputs": [],
   "source": [
    "if __name__ == '__main__':\n",
    "    marksheet = []\n",
    "    score = []\n",
    "    for _ in range(int(input())):\n",
    "        a = input()\n",
    "        b = float(input())\n",
    "        marksheet.append([a, b])\n",
    "        score.append(b)\n",
    "    m = sorted(list(set(score)))[1]   #find the second minimum \n",
    "    for n,s in sorted(marksheet) : #alphavit order\n",
    "        if  s == m:\n",
    "            print(n)\n"
   ]
  },
  {
   "cell_type": "markdown",
   "metadata": {},
   "source": [
    "**6** Lists\n"
   ]
  },
  {
   "cell_type": "code",
   "execution_count": null,
   "metadata": {},
   "outputs": [],
   "source": [
    "N = int(input())\n",
    "l = []\n",
    "l_spl = []\n",
    "def command(l_spl_i,ll):\n",
    "    \n",
    "    if len(l_spl_i) == 3:\n",
    "        place = int(l_spl_i[1])\n",
    "        number = int(l_spl_i[2])\n",
    "        ll.insert(place, number)\n",
    "    if len(l_spl_i) == 1:\n",
    "        if l_spl_i[0] == \"print\":\n",
    "            print(ll)\n",
    "        elif l_spl_i[0] == \"sort\":\n",
    "            ll = sorted(ll)\n",
    "        elif l_spl_i[0] == \"pop\":\n",
    "            ll.pop()\n",
    "        elif l_spl_i[0] == \"reverse\":\n",
    "            ll.reverse()\n",
    " \n",
    "    if len(l_spl_i) == 2:\n",
    "        if l_spl_i[0] == \"remove\":\n",
    "            ll.remove(int(l_spl_i[1]))\n",
    "        elif l_spl_i[0] == \"append\":\n",
    "            ll.append(int(l_spl_i[1]))\n",
    "    return ll\n",
    "new_l = []\n",
    "for i in range(N):\n",
    "    l.append(input())\n",
    "    if len(l[i]) > 7:\n",
    "        l_spl.append(l[i].split(\" \"))\n",
    "    else:\n",
    "        l_spl.append([l[i]])\n",
    "for i in range(N):\n",
    "    new_l = command(l_spl[i],new_l)\n"
   ]
  },
  {
   "cell_type": "markdown",
   "metadata": {},
   "source": [
    "Did it by mistake"
   ]
  },
  {
   "cell_type": "code",
   "execution_count": null,
   "metadata": {},
   "outputs": [],
   "source": [
    "# from itertools import combinations\n",
    "# F = []\n",
    "# N = int(input())\n",
    "# L = input().split()\n",
    "# K = int(input())\n",
    "\n",
    "# C = list(combinations(L, K))\n",
    "# F.append([C[i] for i in range(len(C)) if \"a\" in C[i] ])\n",
    "# print(\"{0:.3}\".format(len(list(F[0]))/len(C)))\n",
    "#############################\n",
    "# from itertools import groupby\n",
    "# data =  (input())\n",
    "# print(*[(len(list(g)),int(i)) for i,g in groupby(data)])\n",
    "##############################  \n",
    "# from itertools import product\n",
    "# K,M = map(int,input().split())\n",
    "# lists = [list(map(int,input().split(\" \")))[1:] for i in range(K)]\n",
    "# elements = []\n",
    "# for i in range(len(lists)):\n",
    "#     elements += lists[i]\n",
    "# C = list(product(*lists))\n",
    "# stdout = 0\n",
    "# s_candidate = 0\n",
    "# for j in (C):\n",
    "#     s_candidate = sum(list(map(lambda x:x*x,j))) % M\n",
    "#     if s_candidate >= stdout:\n",
    "#         stdout = s_candidate\n",
    "# print(stdout)"
   ]
  }
 ],
 "metadata": {
  "kernelspec": {
   "display_name": "Python 3",
   "language": "python",
   "name": "python3"
  },
  "language_info": {
   "codemirror_mode": {
    "name": "ipython",
    "version": 3
   },
   "file_extension": ".py",
   "mimetype": "text/x-python",
   "name": "python",
   "nbconvert_exporter": "python",
   "pygments_lexer": "ipython3",
   "version": "3.7.3"
  }
 },
 "nbformat": 4,
 "nbformat_minor": 2
}
