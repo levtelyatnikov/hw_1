{
 "cells": [
  {
   "cell_type": "markdown",
   "metadata": {},
   "source": [
    "**1** collections.Counter()"
   ]
  },
  {
   "cell_type": "code",
   "execution_count": 3,
   "metadata": {},
   "outputs": [
    {
     "name": "stdout",
     "output_type": "stream",
     "text": [
      "10\n",
      "2 3 4 5 6 8 7 6 5 18\n"
     ]
    }
   ],
   "source": [
    "from collections import Counter\n",
    "_ = input()\n",
    "s = list(map(int,input().split()))\n",
    "shoe_scatter = Counter(s)\n",
    "n = int(input())\n",
    "S = 0\n",
    "for i in range(n):\n",
    "    size, money = map(int, input().split())\n",
    "    if shoe_scatter[size]:# dont try to do == True\n",
    "        # shoe_scatter[size] = 0 . then I will get (if shoe_scatter[size]) == False!\n",
    "        S += money\n",
    "        shoe_scatter[size] -= 1\n",
    "print(S)"
   ]
  },
  {
   "cell_type": "markdown",
   "metadata": {},
   "source": [
    "**2** DefaultDict Tutorial"
   ]
  },
  {
   "cell_type": "code",
   "execution_count": 49,
   "metadata": {},
   "outputs": [
    {
     "name": "stdout",
     "output_type": "stream",
     "text": [
      "5 2\n",
      "a\n",
      "a\n",
      "b\n",
      "a\n",
      "b\n",
      "a\n",
      "b\n",
      "1 2 4\n",
      "3 5\n"
     ]
    }
   ],
   "source": [
    "from collections import defaultdict\n",
    "d = defaultdict(list)\n",
    "n,m = map(int,input().split())\n",
    "names = []\n",
    "for i in range(n):\n",
    "    d[input()].append(i+1) \n",
    "for i in range(m):\n",
    "    names.append(str(input()))\n",
    "for i in names: \n",
    "    if i in d:\n",
    "        print (\" \".join( map(str,d[i]) ))\n",
    "    else:\n",
    "        print( -1)\n"
   ]
  },
  {
   "cell_type": "markdown",
   "metadata": {},
   "source": [
    "**3** Collections.namedtuple()"
   ]
  },
  {
   "cell_type": "code",
   "execution_count": 1,
   "metadata": {},
   "outputs": [
    {
     "name": "stdout",
     "output_type": "stream",
     "text": [
      "11\n"
     ]
    }
   ],
   "source": [
    "from collections import namedtuple\n",
    "n = int(input())\n",
    "\n",
    "spread_sheet = namedtuple('spread_sheet', input().split() )\n",
    "L = [int(spread_sheet(*input().split()).MARKS) for _ in range(n)]\n",
    "print((sum(L) / len(L)))"
   ]
  },
  {
   "cell_type": "markdown",
   "metadata": {},
   "source": [
    "**4** Collections.OrderedDict()"
   ]
  },
  {
   "cell_type": "code",
   "execution_count": 35,
   "metadata": {},
   "outputs": [
    {
     "name": "stdout",
     "output_type": "stream",
     "text": [
      "OrderedDict([('a', 1), ('b', 2), ('c', 3), ('d', 4), ('e', 5)])\n"
     ]
    }
   ],
   "source": [
    "from collections import OrderedDict\n",
    "n = int(input())\n",
    "ordered_dictionary = OrderedDict()\n",
    "s = {}\n",
    "for i in range(n):\n",
    "    a = input().rpartition(\" \")\n",
    "    c,b = a[0],a[2]\n",
    "    #ordered_dictionary[c] = ordered_dictionary.get(c,0) + int(b) #get : Return the value for key if key is in the dictionary, else default\n",
    "    ordered_dictionary[c] = int(b) + ordered_dictionary[c] if c in ordered_dictionary.keys() else int(b)\n",
    "for i,j in zip(ordered_dictionary.keys(),ordered_dictionary.values()):\n",
    "    print(i,j)\n",
    "\n",
    "    \n",
    "#SECOND SoLuTiOn:\n",
    "from collections import defaultdict\n",
    "d = defaultdict(int)\n",
    "n = int(input())\n",
    "for i in range(n):\n",
    "    a = input().rpartition(\" \")\n",
    "    c,b = a[0],a[2]\n",
    "    d[c] += int(b)\n",
    "for i,j in zip(d.keys(),d.values()):\n",
    "    print(i,j)"
   ]
  },
  {
   "cell_type": "markdown",
   "metadata": {},
   "source": [
    "**5** Collections.deque()"
   ]
  },
  {
   "cell_type": "code",
   "execution_count": 60,
   "metadata": {},
   "outputs": [
    {
     "name": "stdout",
     "output_type": "stream",
     "text": [
      "ddddcccccaaaa\n"
     ]
    }
   ],
   "source": [
    "from collections import deque\n",
    "d = deque()\n",
    "for i in range(int(input())):\n",
    "    a = input().split()\n",
    "    if len(a) == 2:\n",
    "        eval(\"d.{0}({1})\".format(a[0],a[1]))\n",
    "    else:\n",
    "        eval(\"d.{0}()\".format(a[0]))\n",
    "print(*d)\n",
    "#SECOND SoLuTiOn\n",
    "from collections import deque\n",
    "d = deque()\n",
    "for _ in range(int(input())):\n",
    "    a = input().split()\n",
    "    getattr(d, a[0])(*[a[1]] if len(a) > 1 else [])\n",
    "print(*d)"
   ]
  },
  {
   "cell_type": "markdown",
   "metadata": {},
   "source": [
    "**6** Word Order"
   ]
  },
  {
   "cell_type": "code",
   "execution_count": 129,
   "metadata": {},
   "outputs": [
    {
     "name": "stdout",
     "output_type": "stream",
     "text": [
      "4\n",
      "bcdef\n",
      "OrderedDict([('bcdef', 1)])\n",
      "abcdefg\n",
      "OrderedDict([('bcdef', 1), ('abcdefg', 1)])\n",
      "bcde\n",
      "OrderedDict([('bcdef', 1), ('abcdefg', 1), ('bcde', 1)])\n",
      "bcdef\n",
      "OrderedDict([('bcdef', 2), ('abcdefg', 1), ('bcde', 1)])\n",
      "3\n",
      "2 1 1\n"
     ]
    }
   ],
   "source": [
    "from collections import OrderedDict\n",
    "ordered_dictionary = OrderedDict()\n",
    "n = int(input())\n",
    "for i in range(n):\n",
    "    c = input()\n",
    "    ordered_dictionary[c] = ordered_dictionary.get(c,0) + 1\n",
    "print(len(ordered_dictionary.keys()))\n",
    "print(*ordered_dictionary.values())"
   ]
  },
  {
   "cell_type": "markdown",
   "metadata": {},
   "source": [
    "**7** Company Logo"
   ]
  },
  {
   "cell_type": "code",
   "execution_count": 88,
   "metadata": {},
   "outputs": [
    {
     "name": "stdout",
     "output_type": "stream",
     "text": [
      "asndsdalkdsax\n",
      "a 3\n",
      "d 3\n",
      "s 3\n"
     ]
    }
   ],
   "source": [
    "from collections import OrderedDict, Counter\n",
    "od = OrderedDict()\n",
    "inp = sorted(str(input()))\n",
    "cnt = Counter(inp)\n",
    "od = OrderedDict(cnt.most_common(3))\n",
    "k = 0\n",
    "for i,k in od.items():\n",
    "    print(i,k)"
   ]
  },
  {
   "cell_type": "markdown",
   "metadata": {},
   "source": [
    "**8** Piling Up!"
   ]
  },
  {
   "cell_type": "code",
   "execution_count": 41,
   "metadata": {},
   "outputs": [
    {
     "name": "stdout",
     "output_type": "stream",
     "text": [
      "2\n",
      "6\n",
      "4 3 2 1 3 4\n",
      "Yes\n",
      "3\n",
      "1 3 2\n",
      "No\n"
     ]
    }
   ],
   "source": [
    "from collections import deque\n",
    "\n",
    "for _ in range(int(input())):  \n",
    "    _ = input()\n",
    "    d = deque(list(map(int, input().split())))\n",
    "    k = 0\n",
    "    for i in reversed(sorted(d)):\n",
    "        if d[-1] == i: \n",
    "            d.pop()\n",
    "            k += 1\n",
    "        elif d[0] == i: \n",
    "            d.popleft()\n",
    "            k += 1\n",
    "        else:\n",
    "            k = 0\n",
    "            print('No')\n",
    "            break\n",
    "    if k != 0: \n",
    "        print('Yes')\n",
    "\n",
    "\n",
    "\n",
    "#####Second Solution\n",
    "\n",
    "from collections import deque\n",
    "for i in range(int(input())):\n",
    "    l = int(input())\n",
    "    st =input().split()\n",
    "    d = deque(st)\n",
    "    s = 0\n",
    "    \n",
    "    for j in range(l//2):\n",
    "#         left = int(d.popleft())\n",
    "#         right = int(d.pop())\n",
    "\n",
    "        if d[j] == d[-j - 1] and d[j + 1] =< d[ j ] or d[j] >= d[-j - 1]:\n",
    "            s += 1\n",
    "    if s == l//2:\n",
    "        print(\"Yes\")\n",
    "    else:\n",
    "        print(\"No\")\n",
    "\n",
    "### Second Solution\n",
    "for t in range(int(input())):\n",
    "    l = int(input())\n",
    "    d = list(map(int, input().split()))\n",
    "    k = 0\n",
    "    for i in range(l-1):\n",
    "        if d[i] >= d[i+1] and i < l//2:\n",
    "            k += 1\n",
    "        elif d[i] <= d[i+1] and i >= l//2:\n",
    "            k += 1\n",
    "    if l-1 == k:\n",
    "        print(\"Yes\")\n",
    "    else:\n",
    "        print(\"No\")"
   ]
  }
 ],
 "metadata": {
  "kernelspec": {
   "display_name": "Python 3",
   "language": "python",
   "name": "python3"
  },
  "language_info": {
   "codemirror_mode": {
    "name": "ipython",
    "version": 3
   },
   "file_extension": ".py",
   "mimetype": "text/x-python",
   "name": "python",
   "nbconvert_exporter": "python",
   "pygments_lexer": "ipython3",
   "version": "3.7.3"
  }
 },
 "nbformat": 4,
 "nbformat_minor": 2
}
