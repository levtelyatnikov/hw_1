{
 "cells": [
  {
   "cell_type": "markdown",
   "metadata": {},
   "source": [
    "**1** Detect Floating Point Number\n"
   ]
  },
  {
   "cell_type": "code",
   "execution_count": null,
   "metadata": {},
   "outputs": [],
   "source": [
    "n = int(input())\n",
    "for i in range(n):\n",
    "    digit = input()\n",
    "    try:\n",
    "        if float(digit) and float(digit) != 0:\n",
    "            print(True)\n",
    "        else :\n",
    "            print(False)\n",
    "    except:\n",
    "        print(False)"
   ]
  },
  {
   "cell_type": "markdown",
   "metadata": {},
   "source": [
    "**2** Re.split()\n",
    "\n",
    "\n"
   ]
  },
  {
   "cell_type": "code",
   "execution_count": null,
   "metadata": {},
   "outputs": [],
   "source": [
    "regex_pattern = r\"[,.]\"\n",
    "\n",
    "import re\n",
    "print(\"\\n\".join(re.split(regex_pattern, input())))"
   ]
  },
  {
   "cell_type": "markdown",
   "metadata": {},
   "source": [
    "**3** Group(), Groups() & Groupdict()"
   ]
  },
  {
   "cell_type": "code",
   "execution_count": null,
   "metadata": {},
   "outputs": [],
   "source": [
    "import re\n",
    "m = re.search(r'([a-zA-Z0-9])\\1+',str(input()) ) # re.search need to use when we need to find the first substring  in the string\n",
    "print(m.group(1) if m else -1)"
   ]
  },
  {
   "cell_type": "markdown",
   "metadata": {},
   "source": [
    "**4** Re.findall() & Re.finditer()"
   ]
  },
  {
   "cell_type": "code",
   "execution_count": null,
   "metadata": {},
   "outputs": [],
   "source": [
    "# https://docs.python.org/2/library/re.html - to find explanation of ?<= and ?=\n",
    "match = re.findall(r'(?<=[bcdfghjklmnpqrstvwxz])([aeiouAEIOU]{2,})(?=[bcdfghjklmnpqrstvwxz])',input())\n",
    "print(\"\\n\".join([i for i in match]) if len(match) > 0 else -1)\n"
   ]
  },
  {
   "cell_type": "markdown",
   "metadata": {},
   "source": [
    "**5** Re.start() & Re.end()"
   ]
  },
  {
   "cell_type": "code",
   "execution_count": null,
   "metadata": {},
   "outputs": [],
   "source": [
    "import re\n",
    "s = input()\n",
    "sub = input()\n",
    "start = 0\n",
    "if re.search(r\"\" + sub + \"\",s) == None: # if nonr print (-1,-1)\n",
    "    print((-1,-1))\n",
    "while len(s) - start >= len(sub) :\n",
    "    m = re.search(r'('+ sub + ')',s[start:start + len(sub)])  #find a sub in slice\n",
    "    try:\n",
    "        print((start + m.start(),start + m.end() - 1))\n",
    "    except:\n",
    "        pass\n",
    "    start += 1   # \"change the slice\"\n",
    "\n",
    "    \n"
   ]
  },
  {
   "cell_type": "markdown",
   "metadata": {},
   "source": [
    "**6** Regex Substitution"
   ]
  },
  {
   "cell_type": "code",
   "execution_count": null,
   "metadata": {},
   "outputs": [],
   "source": [
    "import re\n",
    "n = int(input())\n",
    "for i in range(n):\n",
    "    s = input()\n",
    "    for i in range(len(re.findall(r'\\s\\&\\&',s))):\n",
    "        s = re.sub(r\"\\s\\&\\&\\s\", \" and \", s )\n",
    "    for i in range(len(re.findall(r\"\\s\\|\\|\",s))):\n",
    "        s = re.sub(r\"\\s\\|\\|\\s\", \" or \", s )\n",
    "    print(s)"
   ]
  },
  {
   "cell_type": "markdown",
   "metadata": {},
   "source": [
    "**7** Validating Roman Numerals"
   ]
  },
  {
   "cell_type": "code",
   "execution_count": null,
   "metadata": {},
   "outputs": [],
   "source": [
    "import re\n",
    "\n",
    "thousand = 'M{0,3}'\n",
    "hundred = '(C[MD]|D?C{0,3})'\n",
    "ten = '(X[CL]|L?X{0,3})'\n",
    "digit = '(I[VX]|V?I{0,3})'\n",
    "regex_pattern = r\"%s%s%s%s$\" % (thousand, hundred, ten, digit) \n",
    "import re\n",
    "print(str(bool(re.match(regex_pattern, input()))))"
   ]
  },
  {
   "cell_type": "markdown",
   "metadata": {},
   "source": [
    "**8** Validating phone numbers\n",
    "\n"
   ]
  },
  {
   "cell_type": "code",
   "execution_count": null,
   "metadata": {},
   "outputs": [],
   "source": [
    "import re\n",
    "n = int(input())\n",
    "for i in range(n):\n",
    "    print(\"YES\" if bool(re.match(r\"[789]{1}\\d{9}$\",input())) else \"NO\")"
   ]
  },
  {
   "cell_type": "markdown",
   "metadata": {},
   "source": [
    "**9**  Validating and Parsing Email Addresses"
   ]
  },
  {
   "cell_type": "code",
   "execution_count": null,
   "metadata": {},
   "outputs": [],
   "source": [
    "import re\n",
    "n = int(input())\n",
    "for i in range(n):\n",
    "    name,mail = input().split()\n",
    "    if bool(re.match(r\"^\\D[a-zA-Z0-9]+[-_.\\w\\d]*@[a-z]+[.][a-z]{1,3}>$\",mail)) == True:\n",
    "        print(name,mail)"
   ]
  },
  {
   "cell_type": "markdown",
   "metadata": {},
   "source": [
    "**10** Hex Color Code"
   ]
  },
  {
   "cell_type": "code",
   "execution_count": null,
   "metadata": {},
   "outputs": [],
   "source": [
    "import re\n",
    "a = []\n",
    "for i in range(int(input())):\n",
    "    a.extend((re.findall(r'#[a-fA-F0-9]+[;,)]',input())))   #to find hex\n",
    "for i in a:\n",
    "    print(i[:-1])\n"
   ]
  },
  {
   "cell_type": "markdown",
   "metadata": {},
   "source": [
    "**11** HTML 1"
   ]
  },
  {
   "cell_type": "code",
   "execution_count": null,
   "metadata": {},
   "outputs": [],
   "source": [
    "from html.parser import HTMLParser\n",
    "class MyHTMLParser(HTMLParser):\n",
    "    def handle_starttag(self, tag, attrs):        \n",
    "        print ('Start :',tag)\n",
    "        for ele in attrs:\n",
    "            print ('->',ele[0],'>',ele[1])\n",
    "            \n",
    "    def handle_endtag(self, tag):\n",
    "        print ('End   :',tag)\n",
    "        \n",
    "    def handle_startendtag(self, tag, attrs):\n",
    "        print ('Empty :',tag)\n",
    "        for ele in attrs:\n",
    "            print ('->',ele[0],'>',ele[1])\n",
    "            \n",
    "parser = MyHTMLParser()\n",
    "for _ in range(int(input())):\n",
    "    parser.feed(input())"
   ]
  },
  {
   "cell_type": "markdown",
   "metadata": {},
   "source": [
    "**12** HTML 2"
   ]
  },
  {
   "cell_type": "code",
   "execution_count": null,
   "metadata": {},
   "outputs": [],
   "source": [
    "from html.parser import HTMLParser\n",
    "\n",
    "\n",
    "class HtmlParser(HTMLParser):\n",
    "    def handle_comment(self, data):\n",
    "        if '\\n' in data or '\\r\\n' in data:\n",
    "            print('>>> Multi-line Comment')\n",
    "            print(data)\n",
    "        else:\n",
    "            print('>>> Single-line Comment')\n",
    "            print(data)\n",
    "\n",
    "    def handle_data(self, data):\n",
    "        if data != '\\n':\n",
    "            print(\">>> Data\")\n",
    "            print(data)\n",
    "\n",
    "\n",
    "html_parser = HtmlParser()\n",
    "html_parser.feed('\\n'.join([input() for _ in range(int(input()))]))\n",
    "html_parser.close()"
   ]
  },
  {
   "cell_type": "markdown",
   "metadata": {},
   "source": [
    "**13** Detect HTML Tags, Attributes and Attribute Values"
   ]
  },
  {
   "cell_type": "code",
   "execution_count": null,
   "metadata": {},
   "outputs": [],
   "source": [
    "from html.parser import HTMLParser\n",
    "class MyHTMLParser(HTMLParser):\n",
    "    def handle_starttag(self, tag, attrs):\n",
    "        print(tag)\n",
    "        [print('-> {} > {}'.format(*attr)) for attr in attrs] #print attr\n",
    "        \n",
    "html = '\\n'.join([input() for _ in range(int(input()))])\n",
    "parser = MyHTMLParser()\n",
    "parser.feed(html)\n",
    "parser.close()"
   ]
  },
  {
   "cell_type": "markdown",
   "metadata": {},
   "source": [
    "**14** Validating UID"
   ]
  },
  {
   "cell_type": "code",
   "execution_count": null,
   "metadata": {},
   "outputs": [],
   "source": [
    "import re\n",
    "for _ in range(int(input())):\n",
    "    s = input()\n",
    "    try:\n",
    "        assert re.search(r'[A-Za-z0-9]{10}',s) # to check is all charackters digit or alphabet\n",
    "        assert re.search(r'([A-Z].*){2}',s) # to find 2 upper alphaber\n",
    "        assert re.search(r'([0-9].*){3}',s) # to find 3 digit\n",
    "        assert not re.search(r'.*(.).*\\1', s) # to be sure that repitative does not exist found here: https://docs.python.org/3.2/library/re.html\n",
    "    except :\n",
    "        print(\"Invalid\")\n",
    "    else:\n",
    "        print(\"Valid\")"
   ]
  },
  {
   "cell_type": "markdown",
   "metadata": {},
   "source": [
    "**15** Validating Credit Card Numbers"
   ]
  },
  {
   "cell_type": "code",
   "execution_count": null,
   "metadata": {},
   "outputs": [],
   "source": [
    "import re\n",
    "for _ in range(int(input())):\n",
    "    s = input()\n",
    "    try:\n",
    "        assert re.match(r\"^[456]\",s)\n",
    "        assert len(s) == 16 or len(s) == 19\n",
    "        assert re.search(r'[0-9]{16}',s) or re.search(r'[0-9]{4}-[0-9]{4}-[0-9]{4}-[0-9]{4}',s)\n",
    "        if len(s) == 19:\n",
    "            assert not re.search(r'^.*(.)(\\1)(\\1).*$', s[:4]+s[5:9]+s[10:14]+s[15:19]) \n",
    "        else:\n",
    "            assert not re.search(r'^.*(.)(\\1)(\\1).*$', s) # \\1\\2\\3 this is appealing to the group \n",
    "    except :\n",
    "        print(\"Invalid\")\n",
    "    else:\n",
    "        print(\"Valid\")"
   ]
  },
  {
   "cell_type": "markdown",
   "metadata": {},
   "source": [
    "**16** Validating Postal Code"
   ]
  },
  {
   "cell_type": "code",
   "execution_count": null,
   "metadata": {},
   "outputs": [],
   "source": [
    "regex_integer_in_range = r\"^[0-9]{6}$\" # ^$-big.. and end the string\n",
    "regex_alternating_repetitive_digit_pair = r\"(\\d)(?=\\d\\1)\" # (\\d) do a group of one digit (?=\\d\\1) look back and try to find the same digit\n",
    "import re\n",
    "P = input()\n",
    "print (bool(re.match(regex_integer_in_range, P)) \n",
    "and len(re.findall(regex_alternating_repetitive_digit_pair, P)) < 2) \n",
    "\n",
    "\n",
    "# Second solution \n",
    "regex_integer_in_range = r\"^[0-9]{6}$\"\n",
    "regex_alternating_repetitive_digit_pair = r\"(?P<name>\\d)(?P=name)\"\n",
    "import re\n",
    "P = input()\n",
    "print (bool(re.match(regex_integer_in_range, P)) \n",
    "and len(re.findall(regex_alternating_repetitive_digit_pair, P)) < 2)\n",
    "\n",
    "\n"
   ]
  },
  {
   "cell_type": "markdown",
   "metadata": {},
   "source": [
    "**17** Matrix Script\n",
    "\n"
   ]
  },
  {
   "cell_type": "code",
   "execution_count": null,
   "metadata": {},
   "outputs": [],
   "source": [
    "import re\n",
    "n,m = map(int,input().split())\n",
    "l = []\n",
    "for i in range(n):\n",
    "    l.append(input()) #collect all columns\n",
    "\n",
    "s = \"\".join([\"\".join(i) for i in list(zip(*l))])   # list(zip(*l)) to do a list m touples with n elements \n",
    "#and join all tuples and create a nowmal string\n",
    "patern = re.compile(\"(\\w)(\\W+)(\\w)\") # (\\w)(\\W+)(\\w) alphabet then non aplhabet(and it could be a few) then alphabet \n",
    "print(patern.sub(r\"\\1 \\3\",s))           # substitute with 1 group and third group "
   ]
  },
  {
   "cell_type": "code",
   "execution_count": null,
   "metadata": {},
   "outputs": [],
   "source": [
    "# import re\n",
    "# n,m = map(int,input().split())\n",
    "# l = []\n",
    "# for i in range(n):\n",
    "#     l.append(input()) #collect all columns\n",
    "\n",
    "# s = \"\".join([\"\".join(i) for i in list(zip(*l))])   # list(zip(*l)) to do a list m touples with n elements \n",
    "# #and join all tuples and create a nowmal string\n",
    "# patern = re.compile(\"(?P<first>\\w)(?P<nonalpha>\\W+)(?P<third>\\w)\") # (\\w)(\\W+)(\\w) alphabet then non aplhabet(and it could be a few) then alphabet \n",
    "# print(patern.sub(r\"\\first \\third\",s))\n",
    "\n"
   ]
  },
  {
   "cell_type": "code",
   "execution_count": null,
   "metadata": {},
   "outputs": [],
   "source": [
    "# patern = re.compile(\"(?P<first>\\w)(?P<nonalpha>\\W)(?P<third>\\w+)\") # (\\w)(\\W+)(\\w) alphabet then non aplhabet(and it could be a few) then alphabet \n",
    "# print(patern.sub(r\"\\first \\third\",s))"
   ]
  },
  {
   "cell_type": "code",
   "execution_count": null,
   "metadata": {},
   "outputs": [],
   "source": []
  },
  {
   "cell_type": "code",
   "execution_count": null,
   "metadata": {},
   "outputs": [],
   "source": []
  },
  {
   "cell_type": "code",
   "execution_count": null,
   "metadata": {},
   "outputs": [],
   "source": []
  }
 ],
 "metadata": {
  "kernelspec": {
   "display_name": "Python 3",
   "language": "python",
   "name": "python3"
  },
  "language_info": {
   "codemirror_mode": {
    "name": "ipython",
    "version": 3
   },
   "file_extension": ".py",
   "mimetype": "text/x-python",
   "name": "python",
   "nbconvert_exporter": "python",
   "pygments_lexer": "ipython3",
   "version": "3.7.3"
  }
 },
 "nbformat": 4,
 "nbformat_minor": 2
}
