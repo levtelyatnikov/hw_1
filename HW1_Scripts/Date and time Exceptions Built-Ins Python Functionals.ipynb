{
 "cells": [
  {
   "cell_type": "markdown",
   "metadata": {},
   "source": [
    "**Date and time**"
   ]
  },
  {
   "cell_type": "markdown",
   "metadata": {},
   "source": [
    "**1** Calendar Module"
   ]
  },
  {
   "cell_type": "code",
   "execution_count": null,
   "metadata": {},
   "outputs": [],
   "source": [
    "import calendar\n",
    "i  = list(map(int,input().split()))\n",
    "day = calendar.weekday(i[2], i[0], i[1])\n",
    "print (calendar.day_name[day].upper())"
   ]
  },
  {
   "cell_type": "markdown",
   "metadata": {},
   "source": [
    "**2** Time Delta\n",
    "\n"
   ]
  },
  {
   "cell_type": "code",
   "execution_count": null,
   "metadata": {},
   "outputs": [],
   "source": [
    "# to create the right str format: https://www.programiz.com/python-programming/datetime/strptime\n",
    "from datetime import datetime\n",
    "\n",
    "\n",
    "form = '%a %d %b %Y %H:%M:%S %z'\n",
    "for i in range( int(input()) ):\n",
    "    print(int(abs((datetime.strptime(input(),form) - datetime.strptime(input(),form)).total_seconds())))\n",
    "    \n",
    "#Try again to do it throw calendar"
   ]
  },
  {
   "cell_type": "markdown",
   "metadata": {},
   "source": [
    "**Exceptions**"
   ]
  },
  {
   "cell_type": "markdown",
   "metadata": {},
   "source": [
    "**1** Exceptions\n",
    "\n"
   ]
  },
  {
   "cell_type": "code",
   "execution_count": null,
   "metadata": {},
   "outputs": [],
   "source": [
    "n = int(input())\n",
    "for i in range(n):\n",
    "    try:\n",
    "        a,b = map(int,input().split())\n",
    "        try:\n",
    "            print (int(a//b))\n",
    "        except ZeroDivisionError as e:\n",
    "            print (\"Error Code:\",e)\n",
    "    except ValueError as e:\n",
    "        print (\"Error Code:\",e)\n",
    "    \n",
    "    "
   ]
  },
  {
   "cell_type": "markdown",
   "metadata": {},
   "source": [
    "**Built-ins**"
   ]
  },
  {
   "cell_type": "markdown",
   "metadata": {},
   "source": [
    "**1** Zipped!"
   ]
  },
  {
   "cell_type": "code",
   "execution_count": null,
   "metadata": {},
   "outputs": [],
   "source": [
    "n,m = map(int,input().split())\n",
    "a = []\n",
    "def mean(a):\n",
    "    return str(sum(a)/len(a))\n",
    "for i in range(m):\n",
    "    a.append(list(map(float,input().split())))\n",
    "print(\"\\n\".join(list(map(mean,zip(*a)))))    "
   ]
  },
  {
   "cell_type": "markdown",
   "metadata": {},
   "source": [
    "**2** Athlete Sort "
   ]
  },
  {
   "cell_type": "code",
   "execution_count": null,
   "metadata": {},
   "outputs": [],
   "source": [
    "from operator import itemgetter\n",
    "n,_ = map(int,input().split())\n",
    "l = []\n",
    "for i in range(n):\n",
    "    l.append(tuple(map(int,input().split())))\n",
    "b = sorted(l,key=itemgetter(int(input())))\n",
    "for i in b:\n",
    "    print(*list(i))\n",
    "    \n",
    "    \n",
    "#### Second SOLUTION\n",
    "from operator import itemgetter\n",
    "n,_ = map(int,input().split())\n",
    "l = [list(map(int,input().split())) for _ in range(n)]\n",
    "for i in sorted(l, key=itemgetter(int(input()))): # it is not neccessary to sort tupels because i can sort lists\n",
    "    print(*i)\n",
    "    \n",
    "    \n"
   ]
  },
  {
   "cell_type": "markdown",
   "metadata": {},
   "source": [
    "**3** ginortS"
   ]
  },
  {
   "cell_type": "code",
   "execution_count": null,
   "metadata": {},
   "outputs": [],
   "source": [
    "a = input()\n",
    "lower,upper,digit = \"\".join([i for i in a if i.islower()]), \"\".join([i for i in a if i.isupper()]), [int(i) for i in a if i.isdigit()]\n",
    "even, odd = [i for i in digit if i%2 == 0], [i for i in digit if i%2]\n",
    "print(\"\".join(sorted(lower)) + \"\".join(sorted(upper)) + \"\".join(map(str,sorted(odd))) + \"\".join(map(str,sorted(even))))"
   ]
  },
  {
   "cell_type": "markdown",
   "metadata": {},
   "source": [
    "Did it by mistake"
   ]
  },
  {
   "cell_type": "code",
   "execution_count": null,
   "metadata": {},
   "outputs": [],
   "source": [
    "# a,b = map(int,input().split())\n",
    "# s = input().strip()\n",
    "# x = a\n",
    "# print(\"True\" if eval(s) == b else \"False\")\n",
    "# #########################################\n",
    "# eval(input())\n",
    "# #######################################\n",
    "# _ = input()\n",
    "# a = map(int,input().split())\n",
    "# print(all(i>0 for i in a) & any(str(i) == str(i)[::-1] for i in a))"
   ]
  },
  {
   "cell_type": "markdown",
   "metadata": {},
   "source": [
    "**Python Functionals**"
   ]
  },
  {
   "cell_type": "markdown",
   "metadata": {},
   "source": [
    "**1** Map and Lambda Function"
   ]
  },
  {
   "cell_type": "code",
   "execution_count": null,
   "metadata": {},
   "outputs": [],
   "source": [
    "count = int(input())\n",
    "def fibonacci(count): \n",
    "    a = [0, 1] \n",
    "    \n",
    "    any(map(lambda _: a.append(sum(a[-2:])),            # any uses to do  list if i dont use any the list a will not change\n",
    "  \n",
    "                                         range(2, count))) \n",
    "  \n",
    "    return a[:count] \n",
    "f = fibonacci(count)\n",
    "print(list(map(lambda x: x**3,f)))\n",
    "\n",
    "###Second solution\n",
    "def fibonacci(count): \n",
    "    a = [0, 1] \n",
    "    any(map(lambda _: a.append(sum(a[-2:])), range(2, count)))\n",
    "    return a[:count] \n",
    "cube = lambda x : x**3\n",
    "if __name__ == '__main__':\n",
    "    n = int(input())\n",
    "    print(list(map(cube, fibonacci(n))))"
   ]
  },
  {
   "cell_type": "code",
   "execution_count": null,
   "metadata": {},
   "outputs": [],
   "source": []
  },
  {
   "cell_type": "code",
   "execution_count": null,
   "metadata": {},
   "outputs": [],
   "source": []
  },
  {
   "cell_type": "code",
   "execution_count": null,
   "metadata": {},
   "outputs": [],
   "source": []
  }
 ],
 "metadata": {
  "kernelspec": {
   "display_name": "Python 3",
   "language": "python",
   "name": "python3"
  },
  "language_info": {
   "codemirror_mode": {
    "name": "ipython",
    "version": 3
   },
   "file_extension": ".py",
   "mimetype": "text/x-python",
   "name": "python",
   "nbconvert_exporter": "python",
   "pygments_lexer": "ipython3",
   "version": "3.7.3"
  }
 },
 "nbformat": 4,
 "nbformat_minor": 2
}
