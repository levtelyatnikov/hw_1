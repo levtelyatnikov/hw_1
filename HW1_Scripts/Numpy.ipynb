{
 "cells": [
  {
   "cell_type": "markdown",
   "metadata": {},
   "source": [
    "**1** Arrays\n",
    "\n"
   ]
  },
  {
   "cell_type": "code",
   "execution_count": null,
   "metadata": {},
   "outputs": [],
   "source": [
    "import numpy as np\n",
    "\n",
    "def arrays(arr):\n",
    "    return np.array(arr,dtype = float)[::-1]\n",
    "\n",
    "arr = input().strip().split(' ')\n",
    "result = arrays(arr)\n",
    "print(result)"
   ]
  },
  {
   "cell_type": "markdown",
   "metadata": {},
   "source": [
    "**2** Shape and Reshape"
   ]
  },
  {
   "cell_type": "code",
   "execution_count": null,
   "metadata": {},
   "outputs": [],
   "source": [
    "import numpy as np \n",
    "print(np.reshape(np.array(input().strip().split(),dtype = int),(3,3)))"
   ]
  },
  {
   "cell_type": "markdown",
   "metadata": {},
   "source": [
    "**3** Transpose and Flatten"
   ]
  },
  {
   "cell_type": "code",
   "execution_count": null,
   "metadata": {
    "scrolled": true
   },
   "outputs": [],
   "source": [
    "import numpy as np\n",
    "a = np.array([],dtype = int)\n",
    "n,m = map(int,input().strip().split())\n",
    "for i in range(n):\n",
    "    a = np.append(a, np.array(input().strip().split(),dtype = int))\n",
    "print(np.reshape(a,(n,m)).T)\n",
    "print(a.flatten())"
   ]
  },
  {
   "cell_type": "markdown",
   "metadata": {},
   "source": [
    "**4** Concatenate"
   ]
  },
  {
   "cell_type": "code",
   "execution_count": null,
   "metadata": {},
   "outputs": [],
   "source": [
    "import numpy as np \n",
    "n,m,p = map(int,input().strip().split())\n",
    "a = np.array([input().strip().split() for _ in range(n) ], dtype = int)\n",
    "b = np.array([input().strip().split() for _ in range(m) ], dtype = int)\n",
    "print(np.concatenate((a,b),axis = 0))"
   ]
  },
  {
   "cell_type": "markdown",
   "metadata": {},
   "source": [
    "**5** Zeros and Ones"
   ]
  },
  {
   "cell_type": "code",
   "execution_count": null,
   "metadata": {},
   "outputs": [],
   "source": [
    "import numpy as np\n",
    "size = tuple(map(int,input().strip().split()))\n",
    "print(np.zeros(size,dtype = int))\n",
    "print(np.ones(size,dtype = int))\n"
   ]
  },
  {
   "cell_type": "markdown",
   "metadata": {},
   "source": [
    "**6** Eye and Identity"
   ]
  },
  {
   "cell_type": "code",
   "execution_count": null,
   "metadata": {},
   "outputs": [],
   "source": [
    "import numpy as np\n",
    "n,m = map(int,input().strip().split())\n",
    "print(np.eye(n,m,dtype = float))"
   ]
  },
  {
   "cell_type": "markdown",
   "metadata": {},
   "source": [
    "**7** Array Mathematics"
   ]
  },
  {
   "cell_type": "code",
   "execution_count": null,
   "metadata": {},
   "outputs": [],
   "source": [
    "import numpy as np\n",
    "n,m = map(int, input().strip().split())\n",
    "a = np.array([input().strip().split() for _ in range(n)],dtype = int)\n",
    "b = np.array([input().strip().split() for _ in range(n)],dtype = int)\n",
    "print(np.add(a, b,dtype = int))\n",
    "print(np.subtract(a, b,dtype = int))\n",
    "print(np.multiply(a, b,dtype = int))\n",
    "print(np.divide(a, b))\n",
    "print(np.mod(a, b,dtype = int))\n",
    "print(np.power(a, b,dtype = int))\n"
   ]
  },
  {
   "cell_type": "markdown",
   "metadata": {},
   "source": [
    "**8** Floor, Ceil and Rint\n",
    "\n"
   ]
  },
  {
   "cell_type": "code",
   "execution_count": null,
   "metadata": {},
   "outputs": [],
   "source": [
    "import numpy as np\n",
    "np.set_printoptions(sign=' ') # to have appropriate output\n",
    "n = np.array(list(map(float,input().strip().split())))\n",
    "print(np.floor(n),np.ceil(n),np.rint(n),sep = \"\\n\")"
   ]
  },
  {
   "cell_type": "markdown",
   "metadata": {},
   "source": [
    "**9** Sum and Prod"
   ]
  },
  {
   "cell_type": "code",
   "execution_count": null,
   "metadata": {},
   "outputs": [],
   "source": [
    "import numpy as np \n",
    "n,m = map(int,input().strip().split())\n",
    "a = np.array([input().strip().split() for _ in range(n) ], dtype = int)\n",
    "print(np.prod(np.sum(a,axis = 0)))\n"
   ]
  },
  {
   "cell_type": "markdown",
   "metadata": {},
   "source": [
    "**10** Min and max"
   ]
  },
  {
   "cell_type": "code",
   "execution_count": null,
   "metadata": {},
   "outputs": [],
   "source": [
    "import numpy as np \n",
    "n,m = map(int,input().strip().split())\n",
    "a = np.array([input().strip().split() for _ in range(n) ], dtype = int)\n",
    "print(np.max(np.min(a,axis = 1)))\n"
   ]
  },
  {
   "cell_type": "markdown",
   "metadata": {},
   "source": [
    "**11** Mean Var Std"
   ]
  },
  {
   "cell_type": "code",
   "execution_count": null,
   "metadata": {},
   "outputs": [],
   "source": [
    "import numpy as np\n",
    "np.set_printoptions(sign=' ') # to have appropriate output\n",
    "n,m = map(int,input().strip().split())\n",
    "a = np.array([input().strip().split() for _ in range(n) ], dtype = int)\n",
    "print(np.mean(a,axis = 1))\n",
    "print(np.var(a,axis = 0))\n",
    "print(np.std(a,axis = None))\n"
   ]
  },
  {
   "cell_type": "markdown",
   "metadata": {},
   "source": [
    "**12** Dot and cross"
   ]
  },
  {
   "cell_type": "code",
   "execution_count": null,
   "metadata": {},
   "outputs": [],
   "source": [
    "import numpy as np\n",
    "np.set_printoptions(sign=' ')\n",
    "n = int(input())\n",
    "a = np.array([input().strip().split() for _ in range(n)],dtype = int)\n",
    "b = np.array([input().strip().split() for _ in range(n)],dtype = int)\n",
    "print(np.dot(a,b))\n"
   ]
  },
  {
   "cell_type": "markdown",
   "metadata": {},
   "source": [
    "**13** Inner Outer"
   ]
  },
  {
   "cell_type": "code",
   "execution_count": null,
   "metadata": {},
   "outputs": [],
   "source": [
    "import numpy as np\n",
    "np.set_printoptions(sign=' ')\n",
    "a = np.array([input().strip().split() for _ in range(1)],dtype = int)\n",
    "b = np.array([input().strip().split() for _ in range(1)],dtype = int)\n",
    "print(np.inner(a,b)[0][0])\n",
    "print(np.outer(a,b))"
   ]
  },
  {
   "cell_type": "markdown",
   "metadata": {},
   "source": [
    "**14** Linear Algebra"
   ]
  },
  {
   "cell_type": "code",
   "execution_count": null,
   "metadata": {},
   "outputs": [],
   "source": [
    "import numpy as np\n",
    "np.set_printoptions(legacy='1.13')\n",
    "n=int(input())\n",
    "a=np.array([input().split() for _ in range(n)],float)\n",
    "print(numpy.linalg.det(a))"
   ]
  },
  {
   "cell_type": "markdown",
   "metadata": {},
   "source": [
    "**15** Polynomials"
   ]
  },
  {
   "cell_type": "code",
   "execution_count": null,
   "metadata": {},
   "outputs": [],
   "source": [
    "import numpy as np\n",
    "print(np.polyval(list(map(float,input().split())), int(input())))"
   ]
  },
  {
   "cell_type": "code",
   "execution_count": null,
   "metadata": {},
   "outputs": [],
   "source": []
  }
 ],
 "metadata": {
  "kernelspec": {
   "display_name": "Python 3",
   "language": "python",
   "name": "python3"
  },
  "language_info": {
   "codemirror_mode": {
    "name": "ipython",
    "version": 3
   },
   "file_extension": ".py",
   "mimetype": "text/x-python",
   "name": "python",
   "nbconvert_exporter": "python",
   "pygments_lexer": "ipython3",
   "version": "3.7.3"
  }
 },
 "nbformat": 4,
 "nbformat_minor": 2
}
