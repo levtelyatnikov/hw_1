{
 "cells": [
  {
   "cell_type": "markdown",
   "metadata": {},
   "source": [
    "**1** Introduction to Sets\n"
   ]
  },
  {
   "cell_type": "code",
   "execution_count": null,
   "metadata": {},
   "outputs": [],
   "source": [
    "def average(array):\n",
    "    return round(sum(set(array))/len(set(array)),3)\n",
    "\n",
    "if __name__ == '__main__':\n",
    "    n = int(input())\n",
    "    arr = list(map(int, input().split()))\n",
    "    result = average(arr)\n",
    "    print(result)"
   ]
  },
  {
   "cell_type": "markdown",
   "metadata": {},
   "source": [
    "**2** No Idea!"
   ]
  },
  {
   "cell_type": "code",
   "execution_count": null,
   "metadata": {
    "scrolled": true
   },
   "outputs": [],
   "source": [
    "n,m = map(int,input().split(\" \"))\n",
    "a = (input().split(\" \"))  #groupby\n",
    "A = set(input().split(\" \"))\n",
    "B = set(input().split(\" \"))\n",
    "s = 0\n",
    "for k in a:\n",
    "    if k in A:\n",
    "        s += 1\n",
    "    elif k in B:\n",
    "        s -= 1\n",
    "print(s)\n"
   ]
  },
  {
   "cell_type": "markdown",
   "metadata": {},
   "source": [
    "**3** Symmetric Difference\n",
    "\n"
   ]
  },
  {
   "cell_type": "code",
   "execution_count": null,
   "metadata": {},
   "outputs": [],
   "source": [
    "n = int( input() )\n",
    "A = set( input().split(\" \") )\n",
    "m = int( input() )\n",
    "B = set( input().split(\" \") )\n",
    "a1 = A - B\n",
    "a2 = B - A\n",
    "a = sorted(map(int,list(a1) + list(a2)))\n",
    "for i in a:\n",
    "    print(i)\n"
   ]
  },
  {
   "cell_type": "markdown",
   "metadata": {},
   "source": [
    "**4** Set .add()"
   ]
  },
  {
   "cell_type": "code",
   "execution_count": null,
   "metadata": {},
   "outputs": [],
   "source": [
    "n = int(input())\n",
    "stamps = []\n",
    "for i in range(n):\n",
    "    stamps.append(str(input()))\n",
    "print(len(set(stamps)))\n"
   ]
  },
  {
   "cell_type": "markdown",
   "metadata": {},
   "source": [
    "**5** Set .discard(), .remove() & .pop()\n",
    "\n"
   ]
  },
  {
   "cell_type": "code",
   "execution_count": null,
   "metadata": {},
   "outputs": [],
   "source": [
    "n = int(input())\n",
    "s = set(map(int, input().split()))\n",
    "N = int(input())\n",
    "commands = []\n",
    "for i in range(N):\n",
    "    commands.append(str(input()).split(\" \"))\n",
    "for i in range(N):\n",
    "    if commands[i] != [\"pop\"]:\n",
    "        eval(\"s.{0}({1})\".format(commands[i][0],commands[i][1]))\n",
    "    elif commands[i] == [\"pop\"]:\n",
    "        eval(\"s.{0}()\".format(commands[i][0]))\n",
    "print(sum(s))"
   ]
  },
  {
   "cell_type": "markdown",
   "metadata": {},
   "source": [
    "**6** Set .union() Operation"
   ]
  },
  {
   "cell_type": "code",
   "execution_count": null,
   "metadata": {},
   "outputs": [],
   "source": [
    "n = input()\n",
    "A = set(input().split())\n",
    "m = input() \n",
    "B = set(input().split())\n",
    "print(len(A.union(B)))"
   ]
  },
  {
   "cell_type": "markdown",
   "metadata": {},
   "source": [
    "**7** Set .intersection() Operation\n",
    "\n"
   ]
  },
  {
   "cell_type": "code",
   "execution_count": null,
   "metadata": {},
   "outputs": [],
   "source": [
    "n = input()\n",
    "A = set(input().split())\n",
    "m = input() \n",
    "B = set(input().split())\n",
    "print(len(A.intersection(B)))"
   ]
  },
  {
   "cell_type": "markdown",
   "metadata": {},
   "source": [
    "**8** Set .difference() Operation"
   ]
  },
  {
   "cell_type": "code",
   "execution_count": null,
   "metadata": {},
   "outputs": [],
   "source": [
    "n = input()\n",
    "A = set(input().split())\n",
    "m = input() \n",
    "B = set(input().split())\n",
    "print(len(A-B))"
   ]
  },
  {
   "cell_type": "markdown",
   "metadata": {},
   "source": [
    "**9** Set .symmetric_difference() Operation"
   ]
  },
  {
   "cell_type": "code",
   "execution_count": null,
   "metadata": {},
   "outputs": [],
   "source": [
    "n = input()\n",
    "A = set(input().split())\n",
    "m = input() \n",
    "B = set(input().split())\n",
    "print(len(A.symmetric_difference(B)))"
   ]
  },
  {
   "cell_type": "markdown",
   "metadata": {},
   "source": [
    "**10** Set Mutations"
   ]
  },
  {
   "cell_type": "code",
   "execution_count": null,
   "metadata": {},
   "outputs": [],
   "source": [
    "# n = input()\n",
    "# A = set(input().split())\n",
    "# for i in range(int(input())):\n",
    "#     command = input().split()[0]\n",
    "#     S = set(map(int, input().split()))\n",
    "#     eval(\"A.{0}({1})\".format(command ,S))\n",
    "#     print(sum(A))\n",
    "# print(sum(A))\n",
    "n = input()\n",
    "a = set(map(int, input().split()))\n",
    "for i in range(int(input())):\n",
    "    command = input().split()[0]\n",
    "    new_set = set(map(int, input().split()))\n",
    "    if command == 'intersection_update':\n",
    "        a.intersection_update(new_set)\n",
    "    if command == 'update':\n",
    "        a.update(new_set)\n",
    "    if command == 'symmetric_difference_update':\n",
    "        a.symmetric_difference_update(new_set)\n",
    "    if command == 'difference_update':\n",
    "        a.difference_update(new_set)\n",
    "    print(sum(a))\n",
    "print(sum(a))"
   ]
  },
  {
   "cell_type": "markdown",
   "metadata": {},
   "source": [
    "**11** The Captain's Room"
   ]
  },
  {
   "cell_type": "code",
   "execution_count": null,
   "metadata": {},
   "outputs": [],
   "source": [
    "n = int(input())\n",
    "s = list(map(int,input().split()))\n",
    "A = set()\n",
    "B = set()\n",
    "for i in s:\n",
    "        if i not in A:\n",
    "                A.add(i)\n",
    "        else:\n",
    "                B.add(i)\n",
    "print(list(A.difference(B))[0])\n",
    "    \n",
    "    "
   ]
  },
  {
   "cell_type": "markdown",
   "metadata": {},
   "source": [
    "**12** Check Subset"
   ]
  },
  {
   "cell_type": "code",
   "execution_count": null,
   "metadata": {},
   "outputs": [],
   "source": [
    "t= int(input())\n",
    "for i in range(t):\n",
    "    len_A = int(input())\n",
    "    A = set(input().split())\n",
    "    len_B = input()\n",
    "    B = set(input().split())\n",
    "    if len(A.intersection(B)) == len_A:\n",
    "        print(True)\n",
    "    else:\n",
    "        print(False)"
   ]
  },
  {
   "cell_type": "markdown",
   "metadata": {},
   "source": [
    "**13** Check Strict Superset"
   ]
  },
  {
   "cell_type": "code",
   "execution_count": null,
   "metadata": {},
   "outputs": [],
   "source": [
    "A = set(input().split())\n",
    "t= int(input())\n",
    "flag = 0\n",
    "for i in range(t):\n",
    "    B = set(input().split())\n",
    "    if len(B) == len(A.intersection(B)) and  len(A.intersection(B)) != 0 and len(A) > len(A.intersection(B)):\n",
    "        flag += 1\n",
    "if flag == t:\n",
    "    print(True)\n",
    "else:\n",
    "    print(False)\n",
    "    "
   ]
  },
  {
   "cell_type": "code",
   "execution_count": null,
   "metadata": {},
   "outputs": [],
   "source": []
  },
  {
   "cell_type": "code",
   "execution_count": null,
   "metadata": {},
   "outputs": [],
   "source": []
  },
  {
   "cell_type": "code",
   "execution_count": null,
   "metadata": {},
   "outputs": [],
   "source": []
  },
  {
   "cell_type": "code",
   "execution_count": null,
   "metadata": {},
   "outputs": [],
   "source": [
    "\n"
   ]
  },
  {
   "cell_type": "code",
   "execution_count": null,
   "metadata": {},
   "outputs": [],
   "source": []
  },
  {
   "cell_type": "code",
   "execution_count": null,
   "metadata": {},
   "outputs": [],
   "source": []
  }
 ],
 "metadata": {
  "kernelspec": {
   "display_name": "Python 3",
   "language": "python",
   "name": "python3"
  },
  "language_info": {
   "codemirror_mode": {
    "name": "ipython",
    "version": 3
   },
   "file_extension": ".py",
   "mimetype": "text/x-python",
   "name": "python",
   "nbconvert_exporter": "python",
   "pygments_lexer": "ipython3",
   "version": "3.7.3"
  }
 },
 "nbformat": 4,
 "nbformat_minor": 2
}
